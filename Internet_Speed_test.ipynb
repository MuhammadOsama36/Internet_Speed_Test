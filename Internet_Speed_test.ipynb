{
 "cells": [
  {
   "cell_type": "code",
   "execution_count": 5,
   "id": "0a399296",
   "metadata": {},
   "outputs": [
    {
     "name": "stdout",
     "output_type": "stream",
     "text": [
      "Requirement already satisfied: speedtest-cli in c:\\users\\wolf\\anaconda3\\lib\\site-packages (2.1.3)Note: you may need to restart the kernel to use updated packages.\n",
      "\n"
     ]
    }
   ],
   "source": [
    "pip install speedtest-cli"
   ]
  },
  {
   "cell_type": "code",
   "execution_count": 17,
   "id": "d820f24b",
   "metadata": {},
   "outputs": [
    {
     "name": "stdout",
     "output_type": "stream",
     "text": [
      "Download Speed: 0.14 Mbps\n",
      "Upload Speed: 0.00 Mbps\n"
     ]
    }
   ],
   "source": [
    "import speedtest\n",
    "\n",
    "def perform_speed_test():\n",
    "    st = speedtest.Speedtest()\n",
    "    \n",
    "    # Get a best server\n",
    "    st.get_best_server()\n",
    "    \n",
    "    # Download speed in bits per second\n",
    "    download_speed = st.download()\n",
    "    \n",
    "    # Upload speed in bits per second\n",
    "    upload_speed = st.upload()\n",
    "    \n",
    "    # Convert speeds to megabits per second for readabilty\n",
    "    download_speed_mbps = download_speed / 1_000_000\n",
    "    upload_speed_mbps = upload_speed / 1_000_000\n",
    "    \n",
    "    print(f'Download Speed: {download_speed_mbps:.2f} Mbps')\n",
    "    print(f'Upload Speed: {upload_speed_mbps:.2f} Mbps')\n",
    "if __name__ == '__main__':\n",
    "    perform_speed_test()"
   ]
  }
 ],
 "metadata": {
  "kernelspec": {
   "display_name": "Python 3",
   "language": "python",
   "name": "python3"
  },
  "language_info": {
   "codemirror_mode": {
    "name": "ipython",
    "version": 3
   },
   "file_extension": ".py",
   "mimetype": "text/x-python",
   "name": "python",
   "nbconvert_exporter": "python",
   "pygments_lexer": "ipython3",
   "version": "3.8.8"
  }
 },
 "nbformat": 4,
 "nbformat_minor": 5
}
